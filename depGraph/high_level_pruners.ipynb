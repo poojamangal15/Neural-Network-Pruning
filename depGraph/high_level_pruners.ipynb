{
 "cells": [
  {
   "cell_type": "code",
   "execution_count": 1,
   "metadata": {},
   "outputs": [],
   "source": [
    "import torch\n",
    "import torch.nn.functional as F\n",
    "import torch.nn as nn\n",
    "from torch.optim import AdamW, lr_scheduler\n",
    "import pytorch_lightning as pl\n",
    "from torchvision import models\n",
    "import torch_pruning as tp\n",
    "import wandb\n",
    "from pytorch_lightning.loggers import WandbLogger\n",
    "from pytorch_lightning.callbacks import ModelCheckpoint\n",
    "import networkx as nx\n",
    "import matplotlib.pyplot as plt\n",
    "from torchvision.transforms import Compose, Resize, ToTensor, Normalize\n",
    "from torchvision.datasets import CIFAR10\n",
    "from torch.utils.data import DataLoader, Subset\n",
    "\n",
    "# Set MPS as the default device\n",
    "torch.set_default_device(\"mps\")"
   ]
  },
  {
   "cell_type": "code",
   "execution_count": 2,
   "metadata": {},
   "outputs": [],
   "source": [
    "class AlexNetFineTuner(pl.LightningModule):\n",
    "    def __init__(self, learning_rate=1e-4, num_classes=10):\n",
    "        super(AlexNetFineTuner, self).__init__()\n",
    "        self.save_hyperparameters()\n",
    "\n",
    "        # Load pre-trained AlexNet\n",
    "        self.model = models.alexnet(pretrained=False)\n",
    "        self.model.classifier[6] = torch.nn.Linear(4096, num_classes)  # Update the classifier layer\n",
    "\n",
    "        # Initialize metrics dictionary\n",
    "        self.metrics = {\n",
    "            \"pruning_percentage\": [],\n",
    "            \"test_accuracy\": [],\n",
    "            \"test_loss\": [],\n",
    "            \"model_size\": []\n",
    "        }\n",
    "        \n",
    "        self.test_outputs = []\n",
    "    def forward(self, x):\n",
    "        return self.model(x)\n",
    "\n",
    "    def print_dependency_graph(self, DG):\n",
    "        print(\"\\nDependency Graph Details:\")\n",
    "        for module, node in DG.module2node.items():\n",
    "            print(f\"Module: {module}\")\n",
    "            for dep in node.dependencies:\n",
    "                print(f\"    * Target Module: {dep.target.module}\")\n",
    "\n",
    "    def visualize_dependency_graph(self, DG):\n",
    "        \"\"\"Visualize the dependency graph using networkx.\"\"\"\n",
    "        G = nx.DiGraph()\n",
    "        for module, node in DG.module2node.items():\n",
    "            for dep in node.dependencies:\n",
    "                G.add_edge(str(module), str(dep.target.module))\n",
    "        plt.figure(figsize=(12, 8))\n",
    "        nx.draw(G, with_labels=True, node_size=1000, font_size=8, node_color=\"skyblue\", edge_color=\"gray\")\n",
    "        plt.title(\"Dependency Graph\")\n",
    "        plt.show()\n",
    "\n",
    "    # def prune_model(self, pruning_percentage=0.2):\n",
    "    #     # example_inputs = torch.randn(1, 3, 224, 224)  # Example input for dependency graph\n",
    "    #     example_inputs = torch.randn(1, 3, 224, 224, dtype=torch.float32).to(\"mps\")\n",
    "    #     imp = tp.importance.TaylorImportance()\n",
    "\n",
    "    #     ignored_layers = []\n",
    "    #     for m in model.modules():\n",
    "    #         if isinstance(m, torch.nn.Linear) and m.out_features == 1000:\n",
    "    #             ignored_layers.append(m) # DO NOT prune the final classifier!\n",
    "\n",
    "    #     iterative_steps = 5 # progressive pruning\n",
    "    #     pruner = tp.pruner.MagnitudePruner(\n",
    "    #         model,\n",
    "    #         example_inputs,\n",
    "    #         importance=imp,\n",
    "    #         iterative_steps=iterative_steps,\n",
    "    #         ch_sparsity=0.5, # remove 50% channels, ResNet18 = {64, 128, 256, 512} => ResNet18_Half = {32, 64, 128, 256}\n",
    "    #         ignored_layers=ignored_layers,\n",
    "    #     )\n",
    "        \n",
    "    #     self.model = self.model.to(\"mps\")\n",
    "    #     self.model = self.model.to(torch.float32)\n",
    "\n",
    "    #     print(\"MODEL BEFORE PRUNING --------------------->\", self.model)\n",
    "\n",
    "    #     DG = tp.DependencyGraph().build_dependency(self.model, example_inputs)\n",
    "    #     self.print_dependency_graph(DG)\n",
    "    #     self.visualize_dependency_graph(DG)\n",
    "\n",
    "    #     # Choose a layer to prune\n",
    "    #     layer_to_prune = self.model.classifier[1]\n",
    "\n",
    "    #     # Prune layer\n",
    "    #     num_features = layer_to_prune.out_features\n",
    "    #     pruning_idxs = torch.arange(0, int(num_features * pruning_percentage)).tolist()\n",
    "    #     group = DG.get_pruning_group(layer_to_prune, tp.prune_linear_out_channels, idxs=pruning_idxs)\n",
    "    #     if DG.check_pruning_group(group):\n",
    "    #         group.prune()\n",
    "\n",
    "    #     print(\"MODEL AFTER PRUNING --------------------->\", self.model)\n",
    "    #     print(\"PRUNING GROUP ---------------------->\", group)\n",
    "\n",
    "    #     all_groups = list(DG.get_all_groups())\n",
    "    #     print(\"Number of Groups: --------------------->%d\"%len(all_groups))\n",
    "    #     print(\"The last Group: --------------------->\", all_groups[-1])\n",
    "    #     # Update metrics after pruning\n",
    "    #     self.metrics[\"model_size\"].append(sum(p.numel() for p in self.model.parameters() if p.requires_grad))\n",
    "    #     self.metrics[\"pruning_percentage\"].append(pruning_percentage * 100)\n",
    "\n",
    "    def high_level_prune_model(self, ch_sparsity=0.5, iterative_steps=5):\n",
    "        example_inputs = torch.randn(1, 3, 224, 224, dtype=torch.float32).to(\"mps\")\n",
    "        print(\"Example inputs device and dtype:------------------------\", example_inputs.device, example_inputs.dtype)\n",
    "\n",
    "        print(f\"Model device-------------------: {next(self.model.parameters()).device}, dtype: {next(self.model.parameters()).dtype}\")\n",
    "        self.model = self.model.to(\"mps\").to(torch.float32)\n",
    "        print(f\"Model device-------------------: {next(self.model.parameters()).device}, dtype: {next(self.model.parameters()).dtype}\")\n",
    "\n",
    "        # Define importance criteria\n",
    "        imp = tp.importance.TaylorImportance()\n",
    "\n",
    "        # Specify ignored layers (e.g., the final classification layer)\n",
    "        ignored_layers = []\n",
    "        for m in self.model.modules():\n",
    "            if isinstance(m, torch.nn.Linear) and m.out_features == 10:  # Adjust for your dataset\n",
    "                ignored_layers.append(m)\n",
    "\n",
    "        # Initialize high-level pruner\n",
    "        pruner = tp.pruner.MagnitudePruner(\n",
    "            self.model,\n",
    "            example_inputs,\n",
    "            importance=imp,\n",
    "            iterative_steps=iterative_steps,\n",
    "            ch_sparsity=ch_sparsity,\n",
    "            ignored_layers=ignored_layers,\n",
    "        )\n",
    "\n",
    "        # Count operations and parameters before pruning\n",
    "        base_macs, base_nparams = tp.utils.count_ops_and_params(self.model, example_inputs)\n",
    "        print(f\"Before pruning: MACs={base_macs}, Params={base_nparams}\")\n",
    "\n",
    "        # Iteratively prune and update metrics\n",
    "        for i in range(iterative_steps):\n",
    "            print(f\"Pruning step {i + 1}/{iterative_steps}...\")\n",
    "\n",
    "            # If using TaylorImportance, calculate gradients\n",
    "            if isinstance(imp, tp.importance.TaylorImportance):\n",
    "                loss = self.model(example_inputs).sum()  # Dummy loss\n",
    "                loss.backward()  # Backpropagate to calculate gradients\n",
    "\n",
    "            # Prune the model\n",
    "            pruner.step()\n",
    "\n",
    "            # Recalculate MACs and parameters\n",
    "            macs, nparams = tp.utils.count_ops_and_params(self.model, example_inputs)\n",
    "            print(f\"After step {i + 1}: MACs={macs}, Params={nparams}\")\n",
    "\n",
    "            # Append metrics once per pruning step\n",
    "            self.metrics[\"model_size\"].append(nparams)\n",
    "            self.metrics[\"pruning_percentage\"].append(ch_sparsity * 100 * (i + 1) / iterative_steps)\n",
    "\n",
    "            # Optional: Fine-tune the model here\n",
    "            # self.fine_tune_model()  # Add fine-tuning code if needed\n",
    "\n",
    "        print(\"Pruning complete.\")\n",
    "\n",
    "\n",
    "    def training_step(self, batch, batch_idx):\n",
    "        images, labels = batch\n",
    "        images = images.to(torch.float32)  # Convert inputs to float32\n",
    "        labels = labels.to(\"mps\")  # Ensure labels are on MPS\n",
    "\n",
    "        print(\"Images device and dtype:---------------------\", images.device, images.dtype)\n",
    "        print(\"Labels device and dtype:\", labels.device, labels.dtype)\n",
    "\n",
    "        outputs = self(images)\n",
    "        loss = F.cross_entropy(outputs, labels)\n",
    "        preds = torch.argmax(outputs, dim=1)\n",
    "        acc = (preds == labels).float().mean()\n",
    "        self.log(\"train_loss\", loss, on_step=True, on_epoch=True, prog_bar=True)\n",
    "        self.log(\"train_acc\", acc, on_step=True, on_epoch=True, prog_bar=True)\n",
    "        return loss\n",
    "\n",
    "    def validation_step(self, batch, batch_idx):\n",
    "        images, labels = batch\n",
    "        images = images.to(torch.float32)  # Convert inputs to float32\n",
    "        labels = labels.to(\"mps\")  # Ensure labels are on MPS\n",
    "        outputs = self(images)\n",
    "        val_loss = F.cross_entropy(outputs, labels)\n",
    "        preds = torch.argmax(outputs, dim=1)\n",
    "        val_acc = (preds == labels).float().mean()\n",
    "        self.log(\"val_loss\", val_loss, prog_bar=True)\n",
    "        self.log(\"val_acc\", val_acc, prog_bar=True)\n",
    "        return val_loss\n",
    "\n",
    "    def test_step(self, batch, batch_idx):\n",
    "        images, labels = batch\n",
    "        images = images.to(torch.float32)\n",
    "        labels = labels.to(\"mps\")\n",
    "        outputs = self(images)\n",
    "        test_loss = F.cross_entropy(outputs, labels)\n",
    "        preds = torch.argmax(outputs, dim=1)\n",
    "        test_acc = (preds == labels).float().mean()\n",
    "\n",
    "        # Store batch results for aggregation later\n",
    "        self.test_outputs.append({\"test_loss\": test_loss.item(), \"test_acc\": test_acc.item()})\n",
    "\n",
    "        # Log per-batch results if needed\n",
    "        self.log(\"test_loss_batch\", test_loss, prog_bar=True)\n",
    "        self.log(\"test_acc_batch\", test_acc, prog_bar=True)\n",
    "\n",
    "        return test_loss\n",
    "\n",
    "    def on_test_epoch_end(self):\n",
    "        # Aggregate metrics across batches\n",
    "        avg_loss = sum(o[\"test_loss\"] for o in self.test_outputs) / len(self.test_outputs)\n",
    "        avg_acc = sum(o[\"test_acc\"] for o in self.test_outputs) / len(self.test_outputs)\n",
    "\n",
    "        # Append aggregated metrics for the epoch\n",
    "        self.metrics[\"test_accuracy\"].append(avg_acc)\n",
    "        self.metrics[\"test_loss\"].append(avg_loss)\n",
    "\n",
    "        # Log aggregated metrics\n",
    "        self.log(\"test_loss_epoch\", avg_loss, prog_bar=True)\n",
    "        self.log(\"test_acc_epoch\", avg_acc, prog_bar=True)\n",
    "\n",
    "        # Clear outputs for the next test epoch\n",
    "        self.test_outputs = []\n",
    "\n",
    "\n",
    "    def configure_optimizers(self):\n",
    "        optimizer = AdamW(self.parameters(), lr=self.hparams.learning_rate)\n",
    "        scheduler = lr_scheduler.ReduceLROnPlateau(optimizer, mode='min', factor=0.5, patience=2)\n",
    "        return {\"optimizer\": optimizer, \"lr_scheduler\": {\"scheduler\": scheduler, \"monitor\": \"val_loss\"}}\n",
    "\n"
   ]
  },
  {
   "cell_type": "code",
   "execution_count": 3,
   "metadata": {},
   "outputs": [],
   "source": [
    "def plot_metrics(metrics):\n",
    "    print(\"----------------------->1\", metrics[\"pruning_percentage\"], metrics[\"test_accuracy\"])\n",
    "    print(\"----------------------->2\", metrics[\"pruning_percentage\"], metrics[\"test_loss\"])\n",
    "    print(\"----------------------->2\", metrics[\"pruning_percentage\"], metrics[\"model_size\"])\n",
    "\n",
    "    plt.figure()\n",
    "    plt.plot(metrics[\"pruning_percentage\"], metrics[\"test_accuracy\"], marker='o', label=\"Accuracy\")\n",
    "    plt.title(\"Test Accuracy vs. Pruning Percentage\")\n",
    "    plt.xlabel(\"Pruning Percentage (%)\")\n",
    "    plt.ylabel(\"Accuracy\")\n",
    "    plt.grid(True)\n",
    "    plt.legend()\n",
    "    plt.show()\n",
    "\n",
    "    plt.figure()\n",
    "    plt.plot(metrics[\"pruning_percentage\"], metrics[\"test_loss\"], marker='o', color=\"orange\", label=\"Loss\")\n",
    "    plt.title(\"Test Loss vs. Pruning Percentage\")\n",
    "    plt.xlabel(\"Pruning Percentage (%)\")\n",
    "    plt.ylabel(\"Loss\")\n",
    "    plt.grid(True)\n",
    "    plt.legend()\n",
    "    plt.show()\n",
    "\n",
    "    plt.figure()\n",
    "    plt.plot(metrics[\"pruning_percentage\"], metrics[\"model_size\"], marker='o', color=\"green\", label=\"Model Size\")\n",
    "    plt.title(\"Model Size vs. Pruning Percentage\")\n",
    "    plt.xlabel(\"Pruning Percentage (%)\")\n",
    "    plt.ylabel(\"Number of Parameters\")\n",
    "    plt.grid(True)\n",
    "    plt.legend()\n",
    "    plt.show()"
   ]
  },
  {
   "cell_type": "code",
   "execution_count": 4,
   "metadata": {},
   "outputs": [
    {
     "name": "stderr",
     "output_type": "stream",
     "text": [
      "\u001b[34m\u001b[1mwandb\u001b[0m: Using wandb-core as the SDK backend.  Please refer to https://wandb.me/wandb-core for more information.\n",
      "\u001b[34m\u001b[1mwandb\u001b[0m: Currently logged in as: \u001b[33mp-mangal\u001b[0m (\u001b[33mp-mangal-university-of-amsterdam\u001b[0m). Use \u001b[1m`wandb login --relogin`\u001b[0m to force relogin\n"
     ]
    },
    {
     "data": {
      "text/html": [
       "Tracking run with wandb version 0.18.6"
      ],
      "text/plain": [
       "<IPython.core.display.HTML object>"
      ]
     },
     "metadata": {},
     "output_type": "display_data"
    },
    {
     "data": {
      "text/html": [
       "Run data is saved locally in <code>/Users/poojamangal/Desktop/Masters/NNProject/depGraph/wandb/run-20241130_234123-jvwzv1sn</code>"
      ],
      "text/plain": [
       "<IPython.core.display.HTML object>"
      ]
     },
     "metadata": {},
     "output_type": "display_data"
    },
    {
     "data": {
      "text/html": [
       "Syncing run <strong><a href='https://wandb.ai/p-mangal-university-of-amsterdam/alexnet_depGraph/runs/jvwzv1sn' target=\"_blank\">AlexNet_Run</a></strong> to <a href='https://wandb.ai/p-mangal-university-of-amsterdam/alexnet_depGraph' target=\"_blank\">Weights & Biases</a> (<a href='https://wandb.me/developer-guide' target=\"_blank\">docs</a>)<br/>"
      ],
      "text/plain": [
       "<IPython.core.display.HTML object>"
      ]
     },
     "metadata": {},
     "output_type": "display_data"
    },
    {
     "data": {
      "text/html": [
       " View project at <a href='https://wandb.ai/p-mangal-university-of-amsterdam/alexnet_depGraph' target=\"_blank\">https://wandb.ai/p-mangal-university-of-amsterdam/alexnet_depGraph</a>"
      ],
      "text/plain": [
       "<IPython.core.display.HTML object>"
      ]
     },
     "metadata": {},
     "output_type": "display_data"
    },
    {
     "data": {
      "text/html": [
       " View run at <a href='https://wandb.ai/p-mangal-university-of-amsterdam/alexnet_depGraph/runs/jvwzv1sn' target=\"_blank\">https://wandb.ai/p-mangal-university-of-amsterdam/alexnet_depGraph/runs/jvwzv1sn</a>"
      ],
      "text/plain": [
       "<IPython.core.display.HTML object>"
      ]
     },
     "metadata": {},
     "output_type": "display_data"
    },
    {
     "name": "stdout",
     "output_type": "stream",
     "text": [
      "Files already downloaded and verified\n",
      "Files already downloaded and verified\n"
     ]
    },
    {
     "name": "stderr",
     "output_type": "stream",
     "text": [
      "/Library/Frameworks/Python.framework/Versions/3.12/lib/python3.12/site-packages/torchvision/models/_utils.py:208: UserWarning: The parameter 'pretrained' is deprecated since 0.13 and may be removed in the future, please use 'weights' instead.\n",
      "  warnings.warn(\n",
      "/Library/Frameworks/Python.framework/Versions/3.12/lib/python3.12/site-packages/torchvision/models/_utils.py:223: UserWarning: Arguments other than a weight enum or `None` for 'weights' are deprecated since 0.13 and may be removed in the future. The current behavior is equivalent to passing `weights=None`.\n",
      "  warnings.warn(msg)\n",
      "/Library/Frameworks/Python.framework/Versions/3.12/lib/python3.12/site-packages/torch_pruning/pruner/algorithms/metapruner.py:90: UserWarning: ch_sparsity is deprecated in v1.3.0. Please use pruning_ratio.\n",
      "  warnings.warn(\"ch_sparsity is deprecated in v1.3.0. Please use pruning_ratio.\")\n"
     ]
    },
    {
     "name": "stdout",
     "output_type": "stream",
     "text": [
      "Model device-------------------: mps:0, dtype: torch.float32\n",
      "Applying 0% pruning...\n",
      "Example inputs device and dtype:------------------------ mps:0 torch.float32\n",
      "Model device-------------------: mps:0, dtype: torch.float32\n",
      "Model device-------------------: mps:0, dtype: torch.float32\n",
      "Before pruning: MACs=711505866.0, Params=57044810\n",
      "Pruning step 1/5...\n",
      "After step 1: MACs=578047534.0, Params=46142053\n",
      "Pruning step 2/5...\n",
      "After step 2: MACs=464127435.0, Params=36405884\n",
      "Pruning step 3/5...\n",
      "After step 3: MACs=359767251.0, Params=27936552\n",
      "Pruning step 4/5...\n",
      "After step 4: MACs=271142930.0, Params=20488673\n",
      "Pruning step 5/5...\n"
     ]
    },
    {
     "name": "stderr",
     "output_type": "stream",
     "text": [
      "GPU available: True (mps), used: True\n",
      "TPU available: False, using: 0 TPU cores\n",
      "HPU available: False, using: 0 HPUs\n"
     ]
    },
    {
     "name": "stdout",
     "output_type": "stream",
     "text": [
      "After step 5: MACs=195799018.0, Params=14279594\n",
      "Pruning complete.\n"
     ]
    },
    {
     "name": "stderr",
     "output_type": "stream",
     "text": [
      "/Library/Frameworks/Python.framework/Versions/3.12/lib/python3.12/site-packages/pytorch_lightning/loggers/wandb.py:396: There is a wandb run already in progress and newly created instances of `WandbLogger` will reuse this run. If this is not desired, call `wandb.finish()` before instantiating `WandbLogger`.\n",
      "/Library/Frameworks/Python.framework/Versions/3.12/lib/python3.12/site-packages/pytorch_lightning/trainer/connectors/data_connector.py:424: The 'test_dataloader' does not have many workers which may be a bottleneck. Consider increasing the value of the `num_workers` argument` to `num_workers=7` in the `DataLoader` to improve performance.\n"
     ]
    },
    {
     "data": {
      "application/vnd.jupyter.widget-view+json": {
       "model_id": "b069ca0bd676458eac3b4788ed8d3c2f",
       "version_major": 2,
       "version_minor": 0
      },
      "text/plain": [
       "Testing: |          | 0/? [00:00<?, ?it/s]"
      ]
     },
     "metadata": {},
     "output_type": "display_data"
    },
    {
     "data": {
      "text/html": [
       "<pre style=\"white-space:pre;overflow-x:auto;line-height:normal;font-family:Menlo,'DejaVu Sans Mono',consolas,'Courier New',monospace\">┏━━━━━━━━━━━━━━━━━━━━━━━━━━━┳━━━━━━━━━━━━━━━━━━━━━━━━━━━┓\n",
       "┃<span style=\"font-weight: bold\">        Test metric        </span>┃<span style=\"font-weight: bold\">       DataLoader 0        </span>┃\n",
       "┡━━━━━━━━━━━━━━━━━━━━━━━━━━━╇━━━━━━━━━━━━━━━━━━━━━━━━━━━┩\n",
       "│<span style=\"color: #008080; text-decoration-color: #008080\">      test_acc_batch       </span>│<span style=\"color: #800080; text-decoration-color: #800080\">    0.11999999731779099    </span>│\n",
       "│<span style=\"color: #008080; text-decoration-color: #008080\">      test_acc_epoch       </span>│<span style=\"color: #800080; text-decoration-color: #800080\">          0.09375          </span>│\n",
       "│<span style=\"color: #008080; text-decoration-color: #008080\">      test_loss_batch      </span>│<span style=\"color: #800080; text-decoration-color: #800080\">     3.400278329849243     </span>│\n",
       "│<span style=\"color: #008080; text-decoration-color: #008080\">      test_loss_epoch      </span>│<span style=\"color: #800080; text-decoration-color: #800080\">    3.3885245323181152     </span>│\n",
       "└───────────────────────────┴───────────────────────────┘\n",
       "</pre>\n"
      ],
      "text/plain": [
       "┏━━━━━━━━━━━━━━━━━━━━━━━━━━━┳━━━━━━━━━━━━━━━━━━━━━━━━━━━┓\n",
       "┃\u001b[1m \u001b[0m\u001b[1m       Test metric       \u001b[0m\u001b[1m \u001b[0m┃\u001b[1m \u001b[0m\u001b[1m      DataLoader 0       \u001b[0m\u001b[1m \u001b[0m┃\n",
       "┡━━━━━━━━━━━━━━━━━━━━━━━━━━━╇━━━━━━━━━━━━━━━━━━━━━━━━━━━┩\n",
       "│\u001b[36m \u001b[0m\u001b[36m     test_acc_batch      \u001b[0m\u001b[36m \u001b[0m│\u001b[35m \u001b[0m\u001b[35m   0.11999999731779099   \u001b[0m\u001b[35m \u001b[0m│\n",
       "│\u001b[36m \u001b[0m\u001b[36m     test_acc_epoch      \u001b[0m\u001b[36m \u001b[0m│\u001b[35m \u001b[0m\u001b[35m         0.09375         \u001b[0m\u001b[35m \u001b[0m│\n",
       "│\u001b[36m \u001b[0m\u001b[36m     test_loss_batch     \u001b[0m\u001b[36m \u001b[0m│\u001b[35m \u001b[0m\u001b[35m    3.400278329849243    \u001b[0m\u001b[35m \u001b[0m│\n",
       "│\u001b[36m \u001b[0m\u001b[36m     test_loss_epoch     \u001b[0m\u001b[36m \u001b[0m│\u001b[35m \u001b[0m\u001b[35m   3.3885245323181152    \u001b[0m\u001b[35m \u001b[0m│\n",
       "└───────────────────────────┴───────────────────────────┘\n"
      ]
     },
     "metadata": {},
     "output_type": "display_data"
    },
    {
     "name": "stdout",
     "output_type": "stream",
     "text": [
      "Applying 10.0% pruning...\n",
      "Example inputs device and dtype:------------------------ mps:0 torch.float32\n",
      "Model device-------------------: cpu, dtype: torch.float32\n",
      "Model device-------------------: mps:0, dtype: torch.float32\n",
      "Before pruning: MACs=195799018.0, Params=14279594\n",
      "Pruning step 1/5...\n",
      "After step 1: MACs=158985251.0, Params=11549848\n",
      "Pruning step 2/5...\n",
      "After step 2: MACs=128582158.0, Params=9113221\n",
      "Pruning step 3/5...\n",
      "After step 3: MACs=101998898.0, Params=6966689\n",
      "Pruning step 4/5...\n",
      "After step 4: MACs=77937995.0, Params=5106492\n",
      "Pruning step 5/5...\n"
     ]
    },
    {
     "name": "stderr",
     "output_type": "stream",
     "text": [
      "GPU available: True (mps), used: True\n",
      "TPU available: False, using: 0 TPU cores\n",
      "HPU available: False, using: 0 HPUs\n"
     ]
    },
    {
     "name": "stdout",
     "output_type": "stream",
     "text": [
      "After step 5: MACs=57911034.0, Params=3579098\n",
      "Pruning complete.\n"
     ]
    },
    {
     "data": {
      "application/vnd.jupyter.widget-view+json": {
       "model_id": "39e87066215d48bb84501ff724c2cb30",
       "version_major": 2,
       "version_minor": 0
      },
      "text/plain": [
       "Testing: |          | 0/? [00:00<?, ?it/s]"
      ]
     },
     "metadata": {},
     "output_type": "display_data"
    },
    {
     "data": {
      "text/html": [
       "<pre style=\"white-space:pre;overflow-x:auto;line-height:normal;font-family:Menlo,'DejaVu Sans Mono',consolas,'Courier New',monospace\">┏━━━━━━━━━━━━━━━━━━━━━━━━━━━┳━━━━━━━━━━━━━━━━━━━━━━━━━━━┓\n",
       "┃<span style=\"font-weight: bold\">        Test metric        </span>┃<span style=\"font-weight: bold\">       DataLoader 0        </span>┃\n",
       "┡━━━━━━━━━━━━━━━━━━━━━━━━━━━╇━━━━━━━━━━━━━━━━━━━━━━━━━━━┩\n",
       "│<span style=\"color: #008080; text-decoration-color: #008080\">      test_acc_batch       </span>│<span style=\"color: #800080; text-decoration-color: #800080\">    0.11999999731779099    </span>│\n",
       "│<span style=\"color: #008080; text-decoration-color: #008080\">      test_acc_epoch       </span>│<span style=\"color: #800080; text-decoration-color: #800080\">         0.1484375         </span>│\n",
       "│<span style=\"color: #008080; text-decoration-color: #008080\">      test_loss_batch      </span>│<span style=\"color: #800080; text-decoration-color: #800080\">    2.9491405487060547     </span>│\n",
       "│<span style=\"color: #008080; text-decoration-color: #008080\">      test_loss_epoch      </span>│<span style=\"color: #800080; text-decoration-color: #800080\">    3.0298569202423096     </span>│\n",
       "└───────────────────────────┴───────────────────────────┘\n",
       "</pre>\n"
      ],
      "text/plain": [
       "┏━━━━━━━━━━━━━━━━━━━━━━━━━━━┳━━━━━━━━━━━━━━━━━━━━━━━━━━━┓\n",
       "┃\u001b[1m \u001b[0m\u001b[1m       Test metric       \u001b[0m\u001b[1m \u001b[0m┃\u001b[1m \u001b[0m\u001b[1m      DataLoader 0       \u001b[0m\u001b[1m \u001b[0m┃\n",
       "┡━━━━━━━━━━━━━━━━━━━━━━━━━━━╇━━━━━━━━━━━━━━━━━━━━━━━━━━━┩\n",
       "│\u001b[36m \u001b[0m\u001b[36m     test_acc_batch      \u001b[0m\u001b[36m \u001b[0m│\u001b[35m \u001b[0m\u001b[35m   0.11999999731779099   \u001b[0m\u001b[35m \u001b[0m│\n",
       "│\u001b[36m \u001b[0m\u001b[36m     test_acc_epoch      \u001b[0m\u001b[36m \u001b[0m│\u001b[35m \u001b[0m\u001b[35m        0.1484375        \u001b[0m\u001b[35m \u001b[0m│\n",
       "│\u001b[36m \u001b[0m\u001b[36m     test_loss_batch     \u001b[0m\u001b[36m \u001b[0m│\u001b[35m \u001b[0m\u001b[35m   2.9491405487060547    \u001b[0m\u001b[35m \u001b[0m│\n",
       "│\u001b[36m \u001b[0m\u001b[36m     test_loss_epoch     \u001b[0m\u001b[36m \u001b[0m│\u001b[35m \u001b[0m\u001b[35m   3.0298569202423096    \u001b[0m\u001b[35m \u001b[0m│\n",
       "└───────────────────────────┴───────────────────────────┘\n"
      ]
     },
     "metadata": {},
     "output_type": "display_data"
    },
    {
     "name": "stdout",
     "output_type": "stream",
     "text": [
      "Applying 20.0% pruning...\n",
      "Example inputs device and dtype:------------------------ mps:0 torch.float32\n",
      "Model device-------------------: cpu, dtype: torch.float32\n",
      "Model device-------------------: mps:0, dtype: torch.float32\n",
      "Before pruning: MACs=57911034.0, Params=3579098\n",
      "Pruning step 1/5...\n",
      "After step 1: MACs=47418242.0, Params=2876225\n",
      "Pruning step 2/5...\n",
      "After step 2: MACs=38180211.0, Params=2284552\n",
      "Pruning step 3/5...\n",
      "After step 3: MACs=31376235.0, Params=1732524\n",
      "Pruning step 4/5...\n",
      "After step 4: MACs=23814910.0, Params=1280917\n",
      "Pruning step 5/5...\n"
     ]
    },
    {
     "name": "stderr",
     "output_type": "stream",
     "text": [
      "GPU available: True (mps), used: True\n",
      "TPU available: False, using: 0 TPU cores\n",
      "HPU available: False, using: 0 HPUs\n"
     ]
    },
    {
     "name": "stdout",
     "output_type": "stream",
     "text": [
      "After step 5: MACs=18958402.0, Params=899378\n",
      "Pruning complete.\n"
     ]
    },
    {
     "data": {
      "application/vnd.jupyter.widget-view+json": {
       "model_id": "b78dac3b2c544f5db3c40e47057df60c",
       "version_major": 2,
       "version_minor": 0
      },
      "text/plain": [
       "Testing: |          | 0/? [00:00<?, ?it/s]"
      ]
     },
     "metadata": {},
     "output_type": "display_data"
    },
    {
     "data": {
      "text/html": [
       "<pre style=\"white-space:pre;overflow-x:auto;line-height:normal;font-family:Menlo,'DejaVu Sans Mono',consolas,'Courier New',monospace\">┏━━━━━━━━━━━━━━━━━━━━━━━━━━━┳━━━━━━━━━━━━━━━━━━━━━━━━━━━┓\n",
       "┃<span style=\"font-weight: bold\">        Test metric        </span>┃<span style=\"font-weight: bold\">       DataLoader 0        </span>┃\n",
       "┡━━━━━━━━━━━━━━━━━━━━━━━━━━━╇━━━━━━━━━━━━━━━━━━━━━━━━━━━┩\n",
       "│<span style=\"color: #008080; text-decoration-color: #008080\">      test_acc_batch       </span>│<span style=\"color: #800080; text-decoration-color: #800080\">    0.10000000149011612    </span>│\n",
       "│<span style=\"color: #008080; text-decoration-color: #008080\">      test_acc_epoch       </span>│<span style=\"color: #800080; text-decoration-color: #800080\">         0.078125          </span>│\n",
       "│<span style=\"color: #008080; text-decoration-color: #008080\">      test_loss_batch      </span>│<span style=\"color: #800080; text-decoration-color: #800080\">    2.6466357707977295     </span>│\n",
       "│<span style=\"color: #008080; text-decoration-color: #008080\">      test_loss_epoch      </span>│<span style=\"color: #800080; text-decoration-color: #800080\">    2.7109122276306152     </span>│\n",
       "└───────────────────────────┴───────────────────────────┘\n",
       "</pre>\n"
      ],
      "text/plain": [
       "┏━━━━━━━━━━━━━━━━━━━━━━━━━━━┳━━━━━━━━━━━━━━━━━━━━━━━━━━━┓\n",
       "┃\u001b[1m \u001b[0m\u001b[1m       Test metric       \u001b[0m\u001b[1m \u001b[0m┃\u001b[1m \u001b[0m\u001b[1m      DataLoader 0       \u001b[0m\u001b[1m \u001b[0m┃\n",
       "┡━━━━━━━━━━━━━━━━━━━━━━━━━━━╇━━━━━━━━━━━━━━━━━━━━━━━━━━━┩\n",
       "│\u001b[36m \u001b[0m\u001b[36m     test_acc_batch      \u001b[0m\u001b[36m \u001b[0m│\u001b[35m \u001b[0m\u001b[35m   0.10000000149011612   \u001b[0m\u001b[35m \u001b[0m│\n",
       "│\u001b[36m \u001b[0m\u001b[36m     test_acc_epoch      \u001b[0m\u001b[36m \u001b[0m│\u001b[35m \u001b[0m\u001b[35m        0.078125         \u001b[0m\u001b[35m \u001b[0m│\n",
       "│\u001b[36m \u001b[0m\u001b[36m     test_loss_batch     \u001b[0m\u001b[36m \u001b[0m│\u001b[35m \u001b[0m\u001b[35m   2.6466357707977295    \u001b[0m\u001b[35m \u001b[0m│\n",
       "│\u001b[36m \u001b[0m\u001b[36m     test_loss_epoch     \u001b[0m\u001b[36m \u001b[0m│\u001b[35m \u001b[0m\u001b[35m   2.7109122276306152    \u001b[0m\u001b[35m \u001b[0m│\n",
       "└───────────────────────────┴───────────────────────────┘\n"
      ]
     },
     "metadata": {},
     "output_type": "display_data"
    },
    {
     "name": "stdout",
     "output_type": "stream",
     "text": [
      "Applying 30.0% pruning...\n",
      "Example inputs device and dtype:------------------------ mps:0 torch.float32\n",
      "Model device-------------------: cpu, dtype: torch.float32\n",
      "Model device-------------------: mps:0, dtype: torch.float32\n",
      "Before pruning: MACs=18958402.0, Params=899378\n",
      "Pruning step 1/5...\n",
      "After step 1: MACs=15593195.0, Params=713172\n",
      "Pruning step 2/5...\n",
      "After step 2: MACs=12831826.0, Params=566113\n",
      "Pruning step 3/5...\n",
      "After step 3: MACs=10119498.0, Params=435561\n",
      "Pruning step 4/5...\n",
      "After step 4: MACs=7769051.0, Params=322432\n",
      "Pruning step 5/5...\n"
     ]
    },
    {
     "name": "stderr",
     "output_type": "stream",
     "text": [
      "GPU available: True (mps), used: True\n",
      "TPU available: False, using: 0 TPU cores\n",
      "HPU available: False, using: 0 HPUs\n"
     ]
    },
    {
     "name": "stdout",
     "output_type": "stream",
     "text": [
      "After step 5: MACs=6979926.0, Params=227150\n",
      "Pruning complete.\n"
     ]
    },
    {
     "data": {
      "application/vnd.jupyter.widget-view+json": {
       "model_id": "2239ba4df661450d91740917bfe28c5a",
       "version_major": 2,
       "version_minor": 0
      },
      "text/plain": [
       "Testing: |          | 0/? [00:00<?, ?it/s]"
      ]
     },
     "metadata": {},
     "output_type": "display_data"
    },
    {
     "data": {
      "text/html": [
       "<pre style=\"white-space:pre;overflow-x:auto;line-height:normal;font-family:Menlo,'DejaVu Sans Mono',consolas,'Courier New',monospace\">┏━━━━━━━━━━━━━━━━━━━━━━━━━━━┳━━━━━━━━━━━━━━━━━━━━━━━━━━━┓\n",
       "┃<span style=\"font-weight: bold\">        Test metric        </span>┃<span style=\"font-weight: bold\">       DataLoader 0        </span>┃\n",
       "┡━━━━━━━━━━━━━━━━━━━━━━━━━━━╇━━━━━━━━━━━━━━━━━━━━━━━━━━━┩\n",
       "│<span style=\"color: #008080; text-decoration-color: #008080\">      test_acc_batch       </span>│<span style=\"color: #800080; text-decoration-color: #800080\">    0.10000000149011612    </span>│\n",
       "│<span style=\"color: #008080; text-decoration-color: #008080\">      test_acc_epoch       </span>│<span style=\"color: #800080; text-decoration-color: #800080\">         0.078125          </span>│\n",
       "│<span style=\"color: #008080; text-decoration-color: #008080\">      test_loss_batch      </span>│<span style=\"color: #800080; text-decoration-color: #800080\">     2.383073568344116     </span>│\n",
       "│<span style=\"color: #008080; text-decoration-color: #008080\">      test_loss_epoch      </span>│<span style=\"color: #800080; text-decoration-color: #800080\">    2.4033541679382324     </span>│\n",
       "└───────────────────────────┴───────────────────────────┘\n",
       "</pre>\n"
      ],
      "text/plain": [
       "┏━━━━━━━━━━━━━━━━━━━━━━━━━━━┳━━━━━━━━━━━━━━━━━━━━━━━━━━━┓\n",
       "┃\u001b[1m \u001b[0m\u001b[1m       Test metric       \u001b[0m\u001b[1m \u001b[0m┃\u001b[1m \u001b[0m\u001b[1m      DataLoader 0       \u001b[0m\u001b[1m \u001b[0m┃\n",
       "┡━━━━━━━━━━━━━━━━━━━━━━━━━━━╇━━━━━━━━━━━━━━━━━━━━━━━━━━━┩\n",
       "│\u001b[36m \u001b[0m\u001b[36m     test_acc_batch      \u001b[0m\u001b[36m \u001b[0m│\u001b[35m \u001b[0m\u001b[35m   0.10000000149011612   \u001b[0m\u001b[35m \u001b[0m│\n",
       "│\u001b[36m \u001b[0m\u001b[36m     test_acc_epoch      \u001b[0m\u001b[36m \u001b[0m│\u001b[35m \u001b[0m\u001b[35m        0.078125         \u001b[0m\u001b[35m \u001b[0m│\n",
       "│\u001b[36m \u001b[0m\u001b[36m     test_loss_batch     \u001b[0m\u001b[36m \u001b[0m│\u001b[35m \u001b[0m\u001b[35m    2.383073568344116    \u001b[0m\u001b[35m \u001b[0m│\n",
       "│\u001b[36m \u001b[0m\u001b[36m     test_loss_epoch     \u001b[0m\u001b[36m \u001b[0m│\u001b[35m \u001b[0m\u001b[35m   2.4033541679382324    \u001b[0m\u001b[35m \u001b[0m│\n",
       "└───────────────────────────┴───────────────────────────┘\n"
      ]
     },
     "metadata": {},
     "output_type": "display_data"
    },
    {
     "name": "stdout",
     "output_type": "stream",
     "text": [
      "Applying 40.0% pruning...\n",
      "Example inputs device and dtype:------------------------ mps:0 torch.float32\n",
      "Model device-------------------: cpu, dtype: torch.float32\n",
      "Model device-------------------: mps:0, dtype: torch.float32\n",
      "Before pruning: MACs=6979926.0, Params=227150\n",
      "Pruning step 1/5...\n",
      "After step 1: MACs=5146252.0, Params=179791\n",
      "Pruning step 2/5...\n",
      "After step 2: MACs=4808715.0, Params=138908\n",
      "Pruning step 3/5...\n",
      "After step 3: MACs=3290361.0, Params=110082\n",
      "Pruning step 4/5...\n",
      "After step 4: MACs=3036458.0, Params=78689\n",
      "Pruning step 5/5...\n"
     ]
    },
    {
     "name": "stderr",
     "output_type": "stream",
     "text": [
      "GPU available: True (mps), used: True\n",
      "TPU available: False, using: 0 TPU cores\n",
      "HPU available: False, using: 0 HPUs\n"
     ]
    },
    {
     "name": "stdout",
     "output_type": "stream",
     "text": [
      "After step 5: MACs=2865148.0, Params=57944\n",
      "Pruning complete.\n"
     ]
    },
    {
     "data": {
      "application/vnd.jupyter.widget-view+json": {
       "model_id": "d8107bbb82be4d7d91393b8766fcc966",
       "version_major": 2,
       "version_minor": 0
      },
      "text/plain": [
       "Testing: |          | 0/? [00:00<?, ?it/s]"
      ]
     },
     "metadata": {},
     "output_type": "display_data"
    },
    {
     "data": {
      "text/html": [
       "<pre style=\"white-space:pre;overflow-x:auto;line-height:normal;font-family:Menlo,'DejaVu Sans Mono',consolas,'Courier New',monospace\">┏━━━━━━━━━━━━━━━━━━━━━━━━━━━┳━━━━━━━━━━━━━━━━━━━━━━━━━━━┓\n",
       "┃<span style=\"font-weight: bold\">        Test metric        </span>┃<span style=\"font-weight: bold\">       DataLoader 0        </span>┃\n",
       "┡━━━━━━━━━━━━━━━━━━━━━━━━━━━╇━━━━━━━━━━━━━━━━━━━━━━━━━━━┩\n",
       "│<span style=\"color: #008080; text-decoration-color: #008080\">      test_acc_batch       </span>│<span style=\"color: #800080; text-decoration-color: #800080\">    0.10000000149011612    </span>│\n",
       "│<span style=\"color: #008080; text-decoration-color: #008080\">      test_acc_epoch       </span>│<span style=\"color: #800080; text-decoration-color: #800080\">         0.078125          </span>│\n",
       "│<span style=\"color: #008080; text-decoration-color: #008080\">      test_loss_batch      </span>│<span style=\"color: #800080; text-decoration-color: #800080\">     2.321596622467041     </span>│\n",
       "│<span style=\"color: #008080; text-decoration-color: #008080\">      test_loss_epoch      </span>│<span style=\"color: #800080; text-decoration-color: #800080\">    2.3259541988372803     </span>│\n",
       "└───────────────────────────┴───────────────────────────┘\n",
       "</pre>\n"
      ],
      "text/plain": [
       "┏━━━━━━━━━━━━━━━━━━━━━━━━━━━┳━━━━━━━━━━━━━━━━━━━━━━━━━━━┓\n",
       "┃\u001b[1m \u001b[0m\u001b[1m       Test metric       \u001b[0m\u001b[1m \u001b[0m┃\u001b[1m \u001b[0m\u001b[1m      DataLoader 0       \u001b[0m\u001b[1m \u001b[0m┃\n",
       "┡━━━━━━━━━━━━━━━━━━━━━━━━━━━╇━━━━━━━━━━━━━━━━━━━━━━━━━━━┩\n",
       "│\u001b[36m \u001b[0m\u001b[36m     test_acc_batch      \u001b[0m\u001b[36m \u001b[0m│\u001b[35m \u001b[0m\u001b[35m   0.10000000149011612   \u001b[0m\u001b[35m \u001b[0m│\n",
       "│\u001b[36m \u001b[0m\u001b[36m     test_acc_epoch      \u001b[0m\u001b[36m \u001b[0m│\u001b[35m \u001b[0m\u001b[35m        0.078125         \u001b[0m\u001b[35m \u001b[0m│\n",
       "│\u001b[36m \u001b[0m\u001b[36m     test_loss_batch     \u001b[0m\u001b[36m \u001b[0m│\u001b[35m \u001b[0m\u001b[35m    2.321596622467041    \u001b[0m\u001b[35m \u001b[0m│\n",
       "│\u001b[36m \u001b[0m\u001b[36m     test_loss_epoch     \u001b[0m\u001b[36m \u001b[0m│\u001b[35m \u001b[0m\u001b[35m   2.3259541988372803    \u001b[0m\u001b[35m \u001b[0m│\n",
       "└───────────────────────────┴───────────────────────────┘\n"
      ]
     },
     "metadata": {},
     "output_type": "display_data"
    },
    {
     "name": "stdout",
     "output_type": "stream",
     "text": [
      "Applying 50.0% pruning...\n",
      "Example inputs device and dtype:------------------------ mps:0 torch.float32\n",
      "Model device-------------------: cpu, dtype: torch.float32\n",
      "Model device-------------------: mps:0, dtype: torch.float32\n",
      "Before pruning: MACs=2865148.0, Params=57944\n",
      "Pruning step 1/5...\n",
      "After step 1: MACs=1519631.0, Params=45634\n",
      "Pruning step 2/5...\n",
      "After step 2: MACs=1422646.0, Params=35293\n",
      "Pruning step 3/5...\n",
      "After step 3: MACs=1368641.0, Params=26378\n",
      "Pruning step 4/5...\n",
      "After step 4: MACs=1290935.0, Params=18684\n",
      "Pruning step 5/5...\n"
     ]
    },
    {
     "name": "stderr",
     "output_type": "stream",
     "text": [
      "GPU available: True (mps), used: True\n",
      "TPU available: False, using: 0 TPU cores\n",
      "HPU available: False, using: 0 HPUs\n"
     ]
    },
    {
     "name": "stdout",
     "output_type": "stream",
     "text": [
      "After step 5: MACs=1276374.0, Params=15068\n",
      "Pruning complete.\n"
     ]
    },
    {
     "data": {
      "application/vnd.jupyter.widget-view+json": {
       "model_id": "101c125960e3427a99c522aa62871705",
       "version_major": 2,
       "version_minor": 0
      },
      "text/plain": [
       "Testing: |          | 0/? [00:00<?, ?it/s]"
      ]
     },
     "metadata": {},
     "output_type": "display_data"
    },
    {
     "data": {
      "text/html": [
       "<pre style=\"white-space:pre;overflow-x:auto;line-height:normal;font-family:Menlo,'DejaVu Sans Mono',consolas,'Courier New',monospace\">┏━━━━━━━━━━━━━━━━━━━━━━━━━━━┳━━━━━━━━━━━━━━━━━━━━━━━━━━━┓\n",
       "┃<span style=\"font-weight: bold\">        Test metric        </span>┃<span style=\"font-weight: bold\">       DataLoader 0        </span>┃\n",
       "┡━━━━━━━━━━━━━━━━━━━━━━━━━━━╇━━━━━━━━━━━━━━━━━━━━━━━━━━━┩\n",
       "│<span style=\"color: #008080; text-decoration-color: #008080\">      test_acc_batch       </span>│<span style=\"color: #800080; text-decoration-color: #800080\">    0.07999999821186066    </span>│\n",
       "│<span style=\"color: #008080; text-decoration-color: #008080\">      test_acc_epoch       </span>│<span style=\"color: #800080; text-decoration-color: #800080\">          0.0625           </span>│\n",
       "│<span style=\"color: #008080; text-decoration-color: #008080\">      test_loss_batch      </span>│<span style=\"color: #800080; text-decoration-color: #800080\">     2.306103467941284     </span>│\n",
       "│<span style=\"color: #008080; text-decoration-color: #008080\">      test_loss_epoch      </span>│<span style=\"color: #800080; text-decoration-color: #800080\">     2.307271957397461     </span>│\n",
       "└───────────────────────────┴───────────────────────────┘\n",
       "</pre>\n"
      ],
      "text/plain": [
       "┏━━━━━━━━━━━━━━━━━━━━━━━━━━━┳━━━━━━━━━━━━━━━━━━━━━━━━━━━┓\n",
       "┃\u001b[1m \u001b[0m\u001b[1m       Test metric       \u001b[0m\u001b[1m \u001b[0m┃\u001b[1m \u001b[0m\u001b[1m      DataLoader 0       \u001b[0m\u001b[1m \u001b[0m┃\n",
       "┡━━━━━━━━━━━━━━━━━━━━━━━━━━━╇━━━━━━━━━━━━━━━━━━━━━━━━━━━┩\n",
       "│\u001b[36m \u001b[0m\u001b[36m     test_acc_batch      \u001b[0m\u001b[36m \u001b[0m│\u001b[35m \u001b[0m\u001b[35m   0.07999999821186066   \u001b[0m\u001b[35m \u001b[0m│\n",
       "│\u001b[36m \u001b[0m\u001b[36m     test_acc_epoch      \u001b[0m\u001b[36m \u001b[0m│\u001b[35m \u001b[0m\u001b[35m         0.0625          \u001b[0m\u001b[35m \u001b[0m│\n",
       "│\u001b[36m \u001b[0m\u001b[36m     test_loss_batch     \u001b[0m\u001b[36m \u001b[0m│\u001b[35m \u001b[0m\u001b[35m    2.306103467941284    \u001b[0m\u001b[35m \u001b[0m│\n",
       "│\u001b[36m \u001b[0m\u001b[36m     test_loss_epoch     \u001b[0m\u001b[36m \u001b[0m│\u001b[35m \u001b[0m\u001b[35m    2.307271957397461    \u001b[0m\u001b[35m \u001b[0m│\n",
       "└───────────────────────────┴───────────────────────────┘\n"
      ]
     },
     "metadata": {},
     "output_type": "display_data"
    },
    {
     "name": "stdout",
     "output_type": "stream",
     "text": [
      "----------------------->1 [10.0, 20.0, 30.0, 40.0, 50.0, 10.0, 20.0, 30.0, 40.0, 50.0, 10.0, 20.0, 30.0, 40.0, 50.0, 10.0, 20.0, 30.0, 40.0, 50.0, 10.0, 20.0, 30.0, 40.0, 50.0, 10.0, 20.0, 30.0, 40.0, 50.0] [0.09375, 0.1484375, 0.078125, 0.078125, 0.078125, 0.0625]\n",
      "----------------------->2 [10.0, 20.0, 30.0, 40.0, 50.0, 10.0, 20.0, 30.0, 40.0, 50.0, 10.0, 20.0, 30.0, 40.0, 50.0, 10.0, 20.0, 30.0, 40.0, 50.0, 10.0, 20.0, 30.0, 40.0, 50.0, 10.0, 20.0, 30.0, 40.0, 50.0] [3.3885245323181152, 3.029856860637665, 2.7109121084213257, 2.403354287147522, 2.3259541988372803, 2.307271957397461]\n",
      "----------------------->2 [10.0, 20.0, 30.0, 40.0, 50.0, 10.0, 20.0, 30.0, 40.0, 50.0, 10.0, 20.0, 30.0, 40.0, 50.0, 10.0, 20.0, 30.0, 40.0, 50.0, 10.0, 20.0, 30.0, 40.0, 50.0, 10.0, 20.0, 30.0, 40.0, 50.0] [46142053, 36405884, 27936552, 20488673, 14279594, 11549848, 9113221, 6966689, 5106492, 3579098, 2876225, 2284552, 1732524, 1280917, 899378, 713172, 566113, 435561, 322432, 227150, 179791, 138908, 110082, 78689, 57944, 45634, 35293, 26378, 18684, 15068]\n"
     ]
    },
    {
     "ename": "ValueError",
     "evalue": "x and y must have same first dimension, but have shapes (30,) and (6,)",
     "output_type": "error",
     "traceback": [
      "\u001b[0;31m---------------------------------------------------------------------------\u001b[0m",
      "\u001b[0;31mValueError\u001b[0m                                Traceback (most recent call last)",
      "Cell \u001b[0;32mIn[4], line 38\u001b[0m\n\u001b[1;32m     34\u001b[0m     wandb\u001b[38;5;241m.\u001b[39mfinish()\n\u001b[1;32m     37\u001b[0m \u001b[38;5;28;01mif\u001b[39;00m \u001b[38;5;18m__name__\u001b[39m \u001b[38;5;241m==\u001b[39m \u001b[38;5;124m\"\u001b[39m\u001b[38;5;124m__main__\u001b[39m\u001b[38;5;124m\"\u001b[39m:\n\u001b[0;32m---> 38\u001b[0m     \u001b[43mmain\u001b[49m\u001b[43m(\u001b[49m\u001b[43m)\u001b[49m\n",
      "Cell \u001b[0;32mIn[4], line 33\u001b[0m, in \u001b[0;36mmain\u001b[0;34m()\u001b[0m\n\u001b[1;32m     30\u001b[0m     trainer \u001b[38;5;241m=\u001b[39m pl\u001b[38;5;241m.\u001b[39mTrainer(logger\u001b[38;5;241m=\u001b[39mwandb_logger)\n\u001b[1;32m     31\u001b[0m     trainer\u001b[38;5;241m.\u001b[39mtest(model, dataloaders\u001b[38;5;241m=\u001b[39mtest_dataloader)\n\u001b[0;32m---> 33\u001b[0m \u001b[43mplot_metrics\u001b[49m\u001b[43m(\u001b[49m\u001b[43mmodel\u001b[49m\u001b[38;5;241;43m.\u001b[39;49m\u001b[43mmetrics\u001b[49m\u001b[43m)\u001b[49m\n\u001b[1;32m     34\u001b[0m wandb\u001b[38;5;241m.\u001b[39mfinish()\n",
      "Cell \u001b[0;32mIn[3], line 7\u001b[0m, in \u001b[0;36mplot_metrics\u001b[0;34m(metrics)\u001b[0m\n\u001b[1;32m      4\u001b[0m \u001b[38;5;28mprint\u001b[39m(\u001b[38;5;124m\"\u001b[39m\u001b[38;5;124m----------------------->2\u001b[39m\u001b[38;5;124m\"\u001b[39m, metrics[\u001b[38;5;124m\"\u001b[39m\u001b[38;5;124mpruning_percentage\u001b[39m\u001b[38;5;124m\"\u001b[39m], metrics[\u001b[38;5;124m\"\u001b[39m\u001b[38;5;124mmodel_size\u001b[39m\u001b[38;5;124m\"\u001b[39m])\n\u001b[1;32m      6\u001b[0m plt\u001b[38;5;241m.\u001b[39mfigure()\n\u001b[0;32m----> 7\u001b[0m \u001b[43mplt\u001b[49m\u001b[38;5;241;43m.\u001b[39;49m\u001b[43mplot\u001b[49m\u001b[43m(\u001b[49m\u001b[43mmetrics\u001b[49m\u001b[43m[\u001b[49m\u001b[38;5;124;43m\"\u001b[39;49m\u001b[38;5;124;43mpruning_percentage\u001b[39;49m\u001b[38;5;124;43m\"\u001b[39;49m\u001b[43m]\u001b[49m\u001b[43m,\u001b[49m\u001b[43m \u001b[49m\u001b[43mmetrics\u001b[49m\u001b[43m[\u001b[49m\u001b[38;5;124;43m\"\u001b[39;49m\u001b[38;5;124;43mtest_accuracy\u001b[39;49m\u001b[38;5;124;43m\"\u001b[39;49m\u001b[43m]\u001b[49m\u001b[43m,\u001b[49m\u001b[43m \u001b[49m\u001b[43mmarker\u001b[49m\u001b[38;5;241;43m=\u001b[39;49m\u001b[38;5;124;43m'\u001b[39;49m\u001b[38;5;124;43mo\u001b[39;49m\u001b[38;5;124;43m'\u001b[39;49m\u001b[43m,\u001b[49m\u001b[43m \u001b[49m\u001b[43mlabel\u001b[49m\u001b[38;5;241;43m=\u001b[39;49m\u001b[38;5;124;43m\"\u001b[39;49m\u001b[38;5;124;43mAccuracy\u001b[39;49m\u001b[38;5;124;43m\"\u001b[39;49m\u001b[43m)\u001b[49m\n\u001b[1;32m      8\u001b[0m plt\u001b[38;5;241m.\u001b[39mtitle(\u001b[38;5;124m\"\u001b[39m\u001b[38;5;124mTest Accuracy vs. Pruning Percentage\u001b[39m\u001b[38;5;124m\"\u001b[39m)\n\u001b[1;32m      9\u001b[0m plt\u001b[38;5;241m.\u001b[39mxlabel(\u001b[38;5;124m\"\u001b[39m\u001b[38;5;124mPruning Percentage (\u001b[39m\u001b[38;5;124m%\u001b[39m\u001b[38;5;124m)\u001b[39m\u001b[38;5;124m\"\u001b[39m)\n",
      "File \u001b[0;32m/Library/Frameworks/Python.framework/Versions/3.12/lib/python3.12/site-packages/matplotlib/pyplot.py:3590\u001b[0m, in \u001b[0;36mplot\u001b[0;34m(scalex, scaley, data, *args, **kwargs)\u001b[0m\n\u001b[1;32m   3582\u001b[0m \u001b[38;5;129m@_copy_docstring_and_deprecators\u001b[39m(Axes\u001b[38;5;241m.\u001b[39mplot)\n\u001b[1;32m   3583\u001b[0m \u001b[38;5;28;01mdef\u001b[39;00m \u001b[38;5;21mplot\u001b[39m(\n\u001b[1;32m   3584\u001b[0m     \u001b[38;5;241m*\u001b[39margs: \u001b[38;5;28mfloat\u001b[39m \u001b[38;5;241m|\u001b[39m ArrayLike \u001b[38;5;241m|\u001b[39m \u001b[38;5;28mstr\u001b[39m,\n\u001b[0;32m   (...)\u001b[0m\n\u001b[1;32m   3588\u001b[0m     \u001b[38;5;241m*\u001b[39m\u001b[38;5;241m*\u001b[39mkwargs,\n\u001b[1;32m   3589\u001b[0m ) \u001b[38;5;241m-\u001b[39m\u001b[38;5;241m>\u001b[39m \u001b[38;5;28mlist\u001b[39m[Line2D]:\n\u001b[0;32m-> 3590\u001b[0m     \u001b[38;5;28;01mreturn\u001b[39;00m \u001b[43mgca\u001b[49m\u001b[43m(\u001b[49m\u001b[43m)\u001b[49m\u001b[38;5;241;43m.\u001b[39;49m\u001b[43mplot\u001b[49m\u001b[43m(\u001b[49m\n\u001b[1;32m   3591\u001b[0m \u001b[43m        \u001b[49m\u001b[38;5;241;43m*\u001b[39;49m\u001b[43margs\u001b[49m\u001b[43m,\u001b[49m\n\u001b[1;32m   3592\u001b[0m \u001b[43m        \u001b[49m\u001b[43mscalex\u001b[49m\u001b[38;5;241;43m=\u001b[39;49m\u001b[43mscalex\u001b[49m\u001b[43m,\u001b[49m\n\u001b[1;32m   3593\u001b[0m \u001b[43m        \u001b[49m\u001b[43mscaley\u001b[49m\u001b[38;5;241;43m=\u001b[39;49m\u001b[43mscaley\u001b[49m\u001b[43m,\u001b[49m\n\u001b[1;32m   3594\u001b[0m \u001b[43m        \u001b[49m\u001b[38;5;241;43m*\u001b[39;49m\u001b[38;5;241;43m*\u001b[39;49m\u001b[43m(\u001b[49m\u001b[43m{\u001b[49m\u001b[38;5;124;43m\"\u001b[39;49m\u001b[38;5;124;43mdata\u001b[39;49m\u001b[38;5;124;43m\"\u001b[39;49m\u001b[43m:\u001b[49m\u001b[43m \u001b[49m\u001b[43mdata\u001b[49m\u001b[43m}\u001b[49m\u001b[43m \u001b[49m\u001b[38;5;28;43;01mif\u001b[39;49;00m\u001b[43m \u001b[49m\u001b[43mdata\u001b[49m\u001b[43m \u001b[49m\u001b[38;5;129;43;01mis\u001b[39;49;00m\u001b[43m \u001b[49m\u001b[38;5;129;43;01mnot\u001b[39;49;00m\u001b[43m \u001b[49m\u001b[38;5;28;43;01mNone\u001b[39;49;00m\u001b[43m \u001b[49m\u001b[38;5;28;43;01melse\u001b[39;49;00m\u001b[43m \u001b[49m\u001b[43m{\u001b[49m\u001b[43m}\u001b[49m\u001b[43m)\u001b[49m\u001b[43m,\u001b[49m\n\u001b[1;32m   3595\u001b[0m \u001b[43m        \u001b[49m\u001b[38;5;241;43m*\u001b[39;49m\u001b[38;5;241;43m*\u001b[39;49m\u001b[43mkwargs\u001b[49m\u001b[43m,\u001b[49m\n\u001b[1;32m   3596\u001b[0m \u001b[43m    \u001b[49m\u001b[43m)\u001b[49m\n",
      "File \u001b[0;32m/Library/Frameworks/Python.framework/Versions/3.12/lib/python3.12/site-packages/matplotlib/axes/_axes.py:1724\u001b[0m, in \u001b[0;36mAxes.plot\u001b[0;34m(self, scalex, scaley, data, *args, **kwargs)\u001b[0m\n\u001b[1;32m   1481\u001b[0m \u001b[38;5;250m\u001b[39m\u001b[38;5;124;03m\"\"\"\u001b[39;00m\n\u001b[1;32m   1482\u001b[0m \u001b[38;5;124;03mPlot y versus x as lines and/or markers.\u001b[39;00m\n\u001b[1;32m   1483\u001b[0m \n\u001b[0;32m   (...)\u001b[0m\n\u001b[1;32m   1721\u001b[0m \u001b[38;5;124;03m(``'green'``) or hex strings (``'#008000'``).\u001b[39;00m\n\u001b[1;32m   1722\u001b[0m \u001b[38;5;124;03m\"\"\"\u001b[39;00m\n\u001b[1;32m   1723\u001b[0m kwargs \u001b[38;5;241m=\u001b[39m cbook\u001b[38;5;241m.\u001b[39mnormalize_kwargs(kwargs, mlines\u001b[38;5;241m.\u001b[39mLine2D)\n\u001b[0;32m-> 1724\u001b[0m lines \u001b[38;5;241m=\u001b[39m [\u001b[38;5;241m*\u001b[39m\u001b[38;5;28mself\u001b[39m\u001b[38;5;241m.\u001b[39m_get_lines(\u001b[38;5;28mself\u001b[39m, \u001b[38;5;241m*\u001b[39margs, data\u001b[38;5;241m=\u001b[39mdata, \u001b[38;5;241m*\u001b[39m\u001b[38;5;241m*\u001b[39mkwargs)]\n\u001b[1;32m   1725\u001b[0m \u001b[38;5;28;01mfor\u001b[39;00m line \u001b[38;5;129;01min\u001b[39;00m lines:\n\u001b[1;32m   1726\u001b[0m     \u001b[38;5;28mself\u001b[39m\u001b[38;5;241m.\u001b[39madd_line(line)\n",
      "File \u001b[0;32m/Library/Frameworks/Python.framework/Versions/3.12/lib/python3.12/site-packages/matplotlib/axes/_base.py:303\u001b[0m, in \u001b[0;36m_process_plot_var_args.__call__\u001b[0;34m(self, axes, data, *args, **kwargs)\u001b[0m\n\u001b[1;32m    301\u001b[0m     this \u001b[38;5;241m+\u001b[39m\u001b[38;5;241m=\u001b[39m args[\u001b[38;5;241m0\u001b[39m],\n\u001b[1;32m    302\u001b[0m     args \u001b[38;5;241m=\u001b[39m args[\u001b[38;5;241m1\u001b[39m:]\n\u001b[0;32m--> 303\u001b[0m \u001b[38;5;28;01myield from\u001b[39;00m \u001b[38;5;28;43mself\u001b[39;49m\u001b[38;5;241;43m.\u001b[39;49m\u001b[43m_plot_args\u001b[49m\u001b[43m(\u001b[49m\n\u001b[1;32m    304\u001b[0m \u001b[43m    \u001b[49m\u001b[43maxes\u001b[49m\u001b[43m,\u001b[49m\u001b[43m \u001b[49m\u001b[43mthis\u001b[49m\u001b[43m,\u001b[49m\u001b[43m \u001b[49m\u001b[43mkwargs\u001b[49m\u001b[43m,\u001b[49m\u001b[43m \u001b[49m\u001b[43mambiguous_fmt_datakey\u001b[49m\u001b[38;5;241;43m=\u001b[39;49m\u001b[43mambiguous_fmt_datakey\u001b[49m\u001b[43m)\u001b[49m\n",
      "File \u001b[0;32m/Library/Frameworks/Python.framework/Versions/3.12/lib/python3.12/site-packages/matplotlib/axes/_base.py:499\u001b[0m, in \u001b[0;36m_process_plot_var_args._plot_args\u001b[0;34m(self, axes, tup, kwargs, return_kwargs, ambiguous_fmt_datakey)\u001b[0m\n\u001b[1;32m    496\u001b[0m     axes\u001b[38;5;241m.\u001b[39myaxis\u001b[38;5;241m.\u001b[39mupdate_units(y)\n\u001b[1;32m    498\u001b[0m \u001b[38;5;28;01mif\u001b[39;00m x\u001b[38;5;241m.\u001b[39mshape[\u001b[38;5;241m0\u001b[39m] \u001b[38;5;241m!=\u001b[39m y\u001b[38;5;241m.\u001b[39mshape[\u001b[38;5;241m0\u001b[39m]:\n\u001b[0;32m--> 499\u001b[0m     \u001b[38;5;28;01mraise\u001b[39;00m \u001b[38;5;167;01mValueError\u001b[39;00m(\u001b[38;5;124mf\u001b[39m\u001b[38;5;124m\"\u001b[39m\u001b[38;5;124mx and y must have same first dimension, but \u001b[39m\u001b[38;5;124m\"\u001b[39m\n\u001b[1;32m    500\u001b[0m                      \u001b[38;5;124mf\u001b[39m\u001b[38;5;124m\"\u001b[39m\u001b[38;5;124mhave shapes \u001b[39m\u001b[38;5;132;01m{\u001b[39;00mx\u001b[38;5;241m.\u001b[39mshape\u001b[38;5;132;01m}\u001b[39;00m\u001b[38;5;124m and \u001b[39m\u001b[38;5;132;01m{\u001b[39;00my\u001b[38;5;241m.\u001b[39mshape\u001b[38;5;132;01m}\u001b[39;00m\u001b[38;5;124m\"\u001b[39m)\n\u001b[1;32m    501\u001b[0m \u001b[38;5;28;01mif\u001b[39;00m x\u001b[38;5;241m.\u001b[39mndim \u001b[38;5;241m>\u001b[39m \u001b[38;5;241m2\u001b[39m \u001b[38;5;129;01mor\u001b[39;00m y\u001b[38;5;241m.\u001b[39mndim \u001b[38;5;241m>\u001b[39m \u001b[38;5;241m2\u001b[39m:\n\u001b[1;32m    502\u001b[0m     \u001b[38;5;28;01mraise\u001b[39;00m \u001b[38;5;167;01mValueError\u001b[39;00m(\u001b[38;5;124mf\u001b[39m\u001b[38;5;124m\"\u001b[39m\u001b[38;5;124mx and y can be no greater than 2D, but have \u001b[39m\u001b[38;5;124m\"\u001b[39m\n\u001b[1;32m    503\u001b[0m                      \u001b[38;5;124mf\u001b[39m\u001b[38;5;124m\"\u001b[39m\u001b[38;5;124mshapes \u001b[39m\u001b[38;5;132;01m{\u001b[39;00mx\u001b[38;5;241m.\u001b[39mshape\u001b[38;5;132;01m}\u001b[39;00m\u001b[38;5;124m and \u001b[39m\u001b[38;5;132;01m{\u001b[39;00my\u001b[38;5;241m.\u001b[39mshape\u001b[38;5;132;01m}\u001b[39;00m\u001b[38;5;124m\"\u001b[39m)\n",
      "\u001b[0;31mValueError\u001b[0m: x and y must have same first dimension, but have shapes (30,) and (6,)"
     ]
    },
    {
     "data": {
      "image/png": "[encoded data removed]",
      "text/plain": [
       "<Figure size 640x480 with 1 Axes>"
      ]
     },
     "metadata": {},
     "output_type": "display_data"
    }
   ],
   "source": [
    "def main():\n",
    "    wandb.init(project='alexnet_depGraph', name='AlexNet_Run')\n",
    "    wandb_logger = WandbLogger(log_model=False)\n",
    "\n",
    "    transform = Compose([\n",
    "        Resize((224, 224)),\n",
    "        ToTensor(),\n",
    "        Normalize(mean=[0.485, 0.456, 0.406], std=[0.229, 0.224, 0.225]),\n",
    "    ])\n",
    "\n",
    "    train_dataset = Subset(CIFAR10(root='./data', train=True, download=True, transform=transform), range(500))\n",
    "    test_dataset = Subset(CIFAR10(root='./data', train=False, download=True, transform=transform), range(100))\n",
    "    train_dataloader = DataLoader(train_dataset, batch_size=32, shuffle=True)\n",
    "    test_dataloader = DataLoader(test_dataset, batch_size=32)\n",
    "\n",
    "    checkpoint_path = \"../checkpointsAlex/best-checkpoint.ckpt\"\n",
    "    model = AlexNetFineTuner.load_from_checkpoint(checkpoint_path)\n",
    "    model = model.to(torch.float32)\n",
    "    for param in model.parameters():\n",
    "        param.data = param.data.to(torch.float32).to(\"mps\")\n",
    "        if param.grad is not None:\n",
    "            param.grad = param.grad.to(torch.float32).to(\"mps\")\n",
    "\n",
    "    print(f\"Model device-------------------: {next(model.parameters()).device}, dtype: {next(model.parameters()).dtype}\")\n",
    "\n",
    "    pruning_percentages = [0, 0.1, 0.2, 0.3, 0.4, 0.5]\n",
    "    for pruning_percentage in pruning_percentages:\n",
    "        print(f\"Applying {pruning_percentage * 100}% pruning...\")\n",
    "        model.high_level_prune_model(ch_sparsity=0.5, iterative_steps=5)\n",
    "        trainer = pl.Trainer(logger=wandb_logger)\n",
    "        trainer.test(model, dataloaders=test_dataloader)\n",
    "\n",
    "    plot_metrics(model.metrics)\n",
    "    wandb.finish()\n",
    "\n",
    "\n",
    "if __name__ == \"__main__\":\n",
    "    main()"
   ]
  }
 ],
 "metadata": {
  "kernelspec": {
   "display_name": "Python 3",
   "language": "python",
   "name": "python3"
  },
  "language_info": {
   "codemirror_mode": {
    "name": "ipython",
    "version": 3
   },
   "file_extension": ".py",
   "mimetype": "text/x-python",
   "name": "python",
   "nbconvert_exporter": "python",
   "pygments_lexer": "ipython3",
   "version": "3.12.2"
  }
 },
 "nbformat": 4,
 "nbformat_minor": 2
}
